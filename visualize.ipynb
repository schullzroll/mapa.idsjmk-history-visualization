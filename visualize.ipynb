{
 "cells": [
  {
   "cell_type": "code",
   "execution_count": 1,
   "metadata": {},
   "outputs": [],
   "source": [
    "import os\n",
    "import json\n",
    "from multiprocessing import Pool\n",
    "from datetime import datetime\n",
    "import pandas as pd\n",
    "\n",
    "import cartopy.crs as ccrs\n",
    "import cartopy.io.shapereader as shpreader\n",
    "import matplotlib.pyplot as plt\n",
    "import itertools"
   ]
  },
  {
   "cell_type": "code",
   "execution_count": 2,
   "metadata": {},
   "outputs": [],
   "source": [
    "data_folder = \"./output\"\n",
    "output_folder = \"./frames\"\n",
    "geo_shapes_folder = \"./geodata\"\n",
    "os.makedirs(output_folder, exist_ok=True)"
   ]
  },
  {
   "cell_type": "code",
   "execution_count": 3,
   "metadata": {},
   "outputs": [],
   "source": [
    "#fnames = [os.path.join(root, f) for root, _, files in os.walk(geo_shapes_folder) for f in files if f.endswith(())]\n",
    "#local_data = [list(shpreader.Reader(shape_file).geometries()) for shape_file in fnames]\n",
    "country_color = \"#dbdbdb\"\n",
    "urban_areas_color = \"#c2c2c2\"\n",
    "text_color = \"black\"\n",
    "border_color = \"black\"\n",
    "czech_rep_country_color = \"#cecece\"\n",
    "czech_rep_country_color = \"#6baf78\"\n",
    "\n",
    "geo_resources = [\n",
    "    #(\n",
    "    #    shpreader.natural_earth(resolution = \"10m\", category='cultural', name=\"urban_areas\"),\n",
    "    #    {\"edgecolor\": 'none', \"facecolor\": urban_areas_color, 'alpha': 0.5, 'zorder': 2}\n",
    "    #),\n",
    "]\n",
    "\n",
    "countries = (\n",
    "        [c.geometry for c in shpreader.Reader(shpreader.natural_earth(resolution = \"10m\", category='cultural', name=\"admin_1_states_provinces\")).records() if c.attributes['admin'] != 'Czech Republic'],\n",
    "        {\"edgecolor\": border_color, \"facecolor\": country_color, 'alpha': 1, 'zorder': 1}\n",
    "        )\n",
    "\n",
    "czech_rep = (\n",
    "        [c.geometry for c in shpreader.Reader(shpreader.natural_earth(resolution = \"10m\", category='cultural', name=\"admin_1_states_provinces\")).records() if c.attributes['admin'] == 'Czech Republic'],\n",
    "        {\"edgecolor\": border_color, \"facecolor\": czech_rep_country_color, 'alpha': 1, 'zorder': 1}\n",
    ")\n",
    "\n",
    "data = [(shpreader.Reader(resource).geometries(), styling) for resource, styling in geo_resources] + [countries] + [czech_rep]\n",
    "cities = [city for city in shpreader.Reader(shpreader.natural_earth(resolution = \"10m\", category='cultural', name=\"populated_places\")).records() if city.attributes.get('TIMEZONE') and city.attributes['TIMEZONE'].startswith('Europe')]\n",
    "roads = list(shpreader.Reader(shpreader.natural_earth(resolution = \"10m\", category='cultural', name=\"roads\")).geometries())"
   ]
  },
  {
   "cell_type": "code",
   "execution_count": 4,
   "metadata": {},
   "outputs": [],
   "source": [
    "\n",
    "def render_frame(input_filepath: str, output_filepath: str):\n",
    "    try:\n",
    "        with open(input_filepath, \"r\", encoding=\"utf-8-sig\") as infile:\n",
    "            vehicles_json = json.load(infile)\n",
    "    except Exception as e:\n",
    "        print(f\"{e} {input_filepath} -> {output_filepath}\")\n",
    "        return\n",
    "\n",
    "    vehicles = vehicles_json[\"Vehicles\"]\n",
    "    vehicles_df = pd.DataFrame(vehicles)\n",
    "    try:\n",
    "        active_vehicles_df = vehicles_df[vehicles_df.IsInactive==False]\n",
    "    except Exception as e:\n",
    "        print(f\"{e} {input_filepath} -> {output_filepath}\")\n",
    "        active_vehicles_df = vehicles_df\n",
    "\n",
    "    timestamp_string_formatted = vehicles_json[\"LastUpdate\"][:19]\n",
    "    timestamp = datetime.strptime(timestamp_string_formatted, \"%Y-%m-%dT%H:%M:%S\")\n",
    "    \n",
    "    fig = plt.figure(figsize=(12,9), facecolor='white', tight_layout=True)\n",
    "    ax = plt.subplot(projection=ccrs.PlateCarree())\n",
    "    plt.title('Aktivní vozidla MHD IDSJMK', loc='left')\n",
    "    plt.title(timestamp.strftime(\"%Y-%m-%d %A %H:%M:%S\"), loc='right')\n",
    "    plt.tight_layout()\n",
    "\n",
    "    # render czech rep\n",
    "\n",
    "    # render background\n",
    "    for geometry, styling in data:\n",
    "        ax.add_geometries(geometry, ccrs.PlateCarree(), **styling)\n",
    "\n",
    "    # render cities\n",
    "    ax.scatter([c.geometry.x for c in cities],[c.geometry.y for c in cities], c=\"black\", s=10, alpha=1, zorder=3, marker='s')\n",
    "    for city in cities:\n",
    "        pos = city.geometry\n",
    "        ax.annotate(city.attributes['NAME'], (pos.x+0.03, pos.y+0.03), zorder=4)\n",
    "\n",
    "\n",
    "    # render vehicles\n",
    "    if not active_vehicles_df.empty:\n",
    "        ax.scatter(active_vehicles_df['Lng'], active_vehicles_df['Lat'], c=\"blue\", s=5, alpha=1, zorder=5)\n",
    "\n",
    "    lat_min = 47\n",
    "    lat_max = 52\n",
    "    lng_min = 12\n",
    "    lng_max = 19\n",
    "    ax.set_extent([lng_min, lng_max, lat_min, lat_max], crs=ccrs.PlateCarree())\n",
    "    plt.savefig(output_filepath, dpi=80)\n",
    "    plt.close(fig)"
   ]
  },
  {
   "cell_type": "code",
   "execution_count": 5,
   "metadata": {},
   "outputs": [
    {
     "name": "stdout",
     "output_type": "stream",
     "text": [
      "'DataFrame' object has no attribute 'IsInactive' ./output/2022.01.21 05:44:23.json -> ./frames/000343.png\n"
     ]
    },
    {
     "ename": "KeyError",
     "evalue": "'Lng'",
     "output_type": "error",
     "traceback": [
      "\u001b[0;31m---------------------------------------------------------------------------\u001b[0m",
      "\u001b[0;31mRemoteTraceback\u001b[0m                           Traceback (most recent call last)",
      "\u001b[0;31mRemoteTraceback\u001b[0m: \n\"\"\"\nTraceback (most recent call last):\n  File \"/home/roland/.local/lib/python3.9/site-packages/pandas/core/indexes/base.py\", line 3361, in get_loc\n    return self._engine.get_loc(casted_key)\n  File \"pandas/_libs/index.pyx\", line 76, in pandas._libs.index.IndexEngine.get_loc\n  File \"pandas/_libs/index.pyx\", line 108, in pandas._libs.index.IndexEngine.get_loc\n  File \"pandas/_libs/hashtable_class_helper.pxi\", line 5198, in pandas._libs.hashtable.PyObjectHashTable.get_item\n  File \"pandas/_libs/hashtable_class_helper.pxi\", line 5206, in pandas._libs.hashtable.PyObjectHashTable.get_item\nKeyError: 'Lng'\n\nThe above exception was the direct cause of the following exception:\n\nTraceback (most recent call last):\n  File \"/usr/lib/python3.9/multiprocessing/pool.py\", line 125, in worker\n    result = (True, func(*args, **kwds))\n  File \"/usr/lib/python3.9/multiprocessing/pool.py\", line 51, in starmapstar\n    return list(itertools.starmap(args[0], args[1]))\n  File \"/tmp/ipykernel_43844/726073151.py\", line 40, in render_frame\n    ax.scatter(active_vehicles_df['Lng'], active_vehicles_df['Lat'], c=\"blue\", s=5, alpha=1, zorder=5)\n  File \"/home/roland/.local/lib/python3.9/site-packages/pandas/core/frame.py\", line 3458, in __getitem__\n    indexer = self.columns.get_loc(key)\n  File \"/home/roland/.local/lib/python3.9/site-packages/pandas/core/indexes/base.py\", line 3363, in get_loc\n    raise KeyError(key) from err\nKeyError: 'Lng'\n\"\"\"",
      "\nThe above exception was the direct cause of the following exception:\n",
      "\u001b[0;31mKeyError\u001b[0m                                  Traceback (most recent call last)",
      "\u001b[0;32m/tmp/ipykernel_43844/738911399.py\u001b[0m in \u001b[0;36m<module>\u001b[0;34m\u001b[0m\n\u001b[1;32m      5\u001b[0m \u001b[0;34m\u001b[0m\u001b[0m\n\u001b[1;32m      6\u001b[0m \u001b[0;32mwith\u001b[0m \u001b[0mPool\u001b[0m\u001b[0;34m(\u001b[0m\u001b[0;34m)\u001b[0m \u001b[0;32mas\u001b[0m \u001b[0mp\u001b[0m\u001b[0;34m:\u001b[0m\u001b[0;34m\u001b[0m\u001b[0;34m\u001b[0m\u001b[0m\n\u001b[0;32m----> 7\u001b[0;31m     \u001b[0mp\u001b[0m\u001b[0;34m.\u001b[0m\u001b[0mstarmap\u001b[0m\u001b[0;34m(\u001b[0m\u001b[0mrender_frame\u001b[0m\u001b[0;34m,\u001b[0m \u001b[0mparams\u001b[0m\u001b[0;34m)\u001b[0m\u001b[0;34m\u001b[0m\u001b[0;34m\u001b[0m\u001b[0m\n\u001b[0m",
      "\u001b[0;32m/usr/lib/python3.9/multiprocessing/pool.py\u001b[0m in \u001b[0;36mstarmap\u001b[0;34m(self, func, iterable, chunksize)\u001b[0m\n\u001b[1;32m    370\u001b[0m         \u001b[0;31m`\u001b[0m\u001b[0mfunc\u001b[0m\u001b[0;31m`\u001b[0m \u001b[0;32mand\u001b[0m \u001b[0;34m(\u001b[0m\u001b[0ma\u001b[0m\u001b[0;34m,\u001b[0m \u001b[0mb\u001b[0m\u001b[0;34m)\u001b[0m \u001b[0mbecomes\u001b[0m \u001b[0mfunc\u001b[0m\u001b[0;34m(\u001b[0m\u001b[0ma\u001b[0m\u001b[0;34m,\u001b[0m \u001b[0mb\u001b[0m\u001b[0;34m)\u001b[0m\u001b[0;34m.\u001b[0m\u001b[0;34m\u001b[0m\u001b[0;34m\u001b[0m\u001b[0m\n\u001b[1;32m    371\u001b[0m         '''\n\u001b[0;32m--> 372\u001b[0;31m         \u001b[0;32mreturn\u001b[0m \u001b[0mself\u001b[0m\u001b[0;34m.\u001b[0m\u001b[0m_map_async\u001b[0m\u001b[0;34m(\u001b[0m\u001b[0mfunc\u001b[0m\u001b[0;34m,\u001b[0m \u001b[0miterable\u001b[0m\u001b[0;34m,\u001b[0m \u001b[0mstarmapstar\u001b[0m\u001b[0;34m,\u001b[0m \u001b[0mchunksize\u001b[0m\u001b[0;34m)\u001b[0m\u001b[0;34m.\u001b[0m\u001b[0mget\u001b[0m\u001b[0;34m(\u001b[0m\u001b[0;34m)\u001b[0m\u001b[0;34m\u001b[0m\u001b[0;34m\u001b[0m\u001b[0m\n\u001b[0m\u001b[1;32m    373\u001b[0m \u001b[0;34m\u001b[0m\u001b[0m\n\u001b[1;32m    374\u001b[0m     def starmap_async(self, func, iterable, chunksize=None, callback=None,\n",
      "\u001b[0;32m/usr/lib/python3.9/multiprocessing/pool.py\u001b[0m in \u001b[0;36mget\u001b[0;34m(self, timeout)\u001b[0m\n\u001b[1;32m    769\u001b[0m             \u001b[0;32mreturn\u001b[0m \u001b[0mself\u001b[0m\u001b[0;34m.\u001b[0m\u001b[0m_value\u001b[0m\u001b[0;34m\u001b[0m\u001b[0;34m\u001b[0m\u001b[0m\n\u001b[1;32m    770\u001b[0m         \u001b[0;32melse\u001b[0m\u001b[0;34m:\u001b[0m\u001b[0;34m\u001b[0m\u001b[0;34m\u001b[0m\u001b[0m\n\u001b[0;32m--> 771\u001b[0;31m             \u001b[0;32mraise\u001b[0m \u001b[0mself\u001b[0m\u001b[0;34m.\u001b[0m\u001b[0m_value\u001b[0m\u001b[0;34m\u001b[0m\u001b[0;34m\u001b[0m\u001b[0m\n\u001b[0m\u001b[1;32m    772\u001b[0m \u001b[0;34m\u001b[0m\u001b[0m\n\u001b[1;32m    773\u001b[0m     \u001b[0;32mdef\u001b[0m \u001b[0m_set\u001b[0m\u001b[0;34m(\u001b[0m\u001b[0mself\u001b[0m\u001b[0;34m,\u001b[0m \u001b[0mi\u001b[0m\u001b[0;34m,\u001b[0m \u001b[0mobj\u001b[0m\u001b[0;34m)\u001b[0m\u001b[0;34m:\u001b[0m\u001b[0;34m\u001b[0m\u001b[0;34m\u001b[0m\u001b[0m\n",
      "\u001b[0;31mKeyError\u001b[0m: 'Lng'"
     ]
    }
   ],
   "source": [
    "input_filepaths = sorted([os.path.join(data_folder,f) for f in os.listdir(data_folder) if os.path.isfile(os.path.join(data_folder, f))])\n",
    "params = [(infile, os.path.join(output_folder,f\"{i:06d}.png\")) for i, infile in enumerate(input_filepaths)]\n",
    "\n",
    "#render_frame(params[1][0], params[1][1])\n",
    "\n",
    "with Pool() as p:\n",
    "    p.starmap(render_frame, params)\n"
   ]
  }
 ],
 "metadata": {
  "interpreter": {
   "hash": "31f2aee4e71d21fbe5cf8b01ff0e069b9275f58929596ceb00d14d90e3e16cd6"
  },
  "kernelspec": {
   "display_name": "Python 3.9.7 64-bit",
   "language": "python",
   "name": "python3"
  },
  "language_info": {
   "codemirror_mode": {
    "name": "ipython",
    "version": 3
   },
   "file_extension": ".py",
   "mimetype": "text/x-python",
   "name": "python",
   "nbconvert_exporter": "python",
   "pygments_lexer": "ipython3",
   "version": "3.9.7"
  },
  "orig_nbformat": 4
 },
 "nbformat": 4,
 "nbformat_minor": 2
}
